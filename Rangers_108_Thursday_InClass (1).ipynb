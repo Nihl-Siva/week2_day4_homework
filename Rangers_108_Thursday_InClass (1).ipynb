{
 "cells": [
  {
   "cell_type": "markdown",
   "metadata": {},
   "source": [
    "# User-Defined Functions & Scoping"
   ]
  },
  {
   "cell_type": "markdown",
   "metadata": {},
   "source": [
    "## Tasks Today:\n",
    "\n",
    "\n",
    "1) Functions <br>\n",
    " &nbsp;&nbsp;&nbsp;&nbsp; a) User-Defined vs. Built-In Functions <br>\n",
    " &nbsp;&nbsp;&nbsp;&nbsp; b) Accepting Parameters <br>\n",
    " &nbsp;&nbsp;&nbsp;&nbsp; c) Default Parameters <br>\n",
    " &nbsp;&nbsp;&nbsp;&nbsp; d) Making an Argument Optional <br>\n",
    " &nbsp;&nbsp;&nbsp;&nbsp; e) Keyword Arguments <br>\n",
    " &nbsp;&nbsp;&nbsp;&nbsp; f) Returning Values <br>\n",
    " &nbsp;&nbsp;&nbsp;&nbsp; g) *args <br>\n",
    " &nbsp;&nbsp;&nbsp;&nbsp; h) Docstring <br>\n",
    " &nbsp;&nbsp;&nbsp;&nbsp; i) Using a User Function in a Loop <br>\n",
    "2) Scope\n",
    "3) Creating more User-Defined functions "
   ]
  },
  {
   "cell_type": "markdown",
   "metadata": {},
   "source": [
    "\n",
    "## Functions"
   ]
  },
  {
   "cell_type": "markdown",
   "metadata": {},
   "source": [
    "##### User-Defined vs. Built-In Functions"
   ]
  },
  {
   "cell_type": "code",
   "execution_count": null,
   "metadata": {},
   "outputs": [],
   "source": [
    "# Buitl in Funtion\n",
    "print(\"Hello\")\n",
    "\n",
    "#User Defined Funtion\n",
    "def say_hello():\n",
    "    return \"Hello world\"\n",
    "print(say_hello())\n",
    "\n",
    "def say_hello2():\n",
    "    return \"Hello again\"\n",
    "\n",
    "print (say_hello2())\n",
    "\n",
    "print(say_hello)\n"
   ]
  },
  {
   "cell_type": "markdown",
   "metadata": {},
   "source": [
    "##### Accepting Parameters"
   ]
  },
  {
   "cell_type": "code",
   "execution_count": null,
   "metadata": {
    "scrolled": false
   },
   "outputs": [],
   "source": [
    "#order matters\n",
    "# Parameters are positional\n",
    "# a variable can ebe any type of object (data type)\n",
    "\n",
    "def print_something(something):\n",
    "    return something\n",
    "print_something(4)"
   ]
  },
  {
   "cell_type": "code",
   "execution_count": null,
   "metadata": {},
   "outputs": [],
   "source": [
    "print_something(\"ryan\")"
   ]
  },
  {
   "cell_type": "code",
   "execution_count": null,
   "metadata": {},
   "outputs": [],
   "source": [
    "print_something([2 ,3, 4, 6, \"dog\"])"
   ]
  },
  {
   "cell_type": "code",
   "execution_count": null,
   "metadata": {},
   "outputs": [],
   "source": [
    "def print_full_name(first_name, last_name):\n",
    "    return f\"My name is {first_name} {last_name}\"\n",
    "\n",
    "print_full_name(\"Luke\", \"Skywalker\")"
   ]
  },
  {
   "cell_type": "code",
   "execution_count": null,
   "metadata": {},
   "outputs": [],
   "source": [
    "print_full_name(\"Solo\", \"Han\")"
   ]
  },
  {
   "cell_type": "code",
   "execution_count": null,
   "metadata": {},
   "outputs": [],
   "source": [
    "num1 = 2\n",
    "num2 = 3\n",
    "\n",
    "def add_num(num1, num2):\n",
    "    return num1 + num2\n",
    "\n",
    "add_num(4,5)"
   ]
  },
  {
   "cell_type": "code",
   "execution_count": null,
   "metadata": {},
   "outputs": [],
   "source": [
    "def add_nums2(num1, num2):\n",
    "    return num1 + num2\n",
    "add_nums2(10, 5)"
   ]
  },
  {
   "cell_type": "code",
   "execution_count": null,
   "metadata": {},
   "outputs": [],
   "source": [
    "def multiply_nums(num1, num2):\n",
    "    return num1 * num2\n",
    "\n",
    "multiply_nums(add_num(4, 5), add_nums2(10, 5))"
   ]
  },
  {
   "cell_type": "code",
   "execution_count": null,
   "metadata": {},
   "outputs": [],
   "source": [
    "sum_nums = add_num(10, 15)\n",
    "sum_nums2 = add_nums2(6, 7)\n",
    "print(sum_nums)\n",
    "print(sum_nums2)\n",
    "multiply_nums(sum_nums, sum_nums2)"
   ]
  },
  {
   "cell_type": "markdown",
   "metadata": {},
   "source": [
    "##### Default Parameters"
   ]
  },
  {
   "cell_type": "code",
   "execution_count": null,
   "metadata": {},
   "outputs": [],
   "source": [
    "# Default parameters must come after non-default parameters at all times\n",
    "\n",
    "def agent_name(first_name, last_name = \"Bond\"):\n",
    "    return f\"The name is {last_name}.... {first_name} {last_name}.\"\n",
    "print(agent_name(\"Jimmy\"))\n",
    "print(agent_name(\"Jimmy\",\"Brown\"))\n",
    "print(agent_name(\"Leroy\",last_name = \"Jenkins\"))"
   ]
  },
  {
   "cell_type": "code",
   "execution_count": null,
   "metadata": {},
   "outputs": [],
   "source": [
    "def birthday_month(day, year, month=\"January\"):\n",
    "    return f\"Your birthday is {month} {day}, and you were born in {year}.\"\n",
    "\n",
    "print(birthday_month(4, 1998))\n",
    "\n",
    "print(birthday_month(22, 1999, month=\"February\"))\n",
    "\n"
   ]
  },
  {
   "cell_type": "markdown",
   "metadata": {},
   "source": [
    "##### Making an Argument Optional"
   ]
  },
  {
   "cell_type": "code",
   "execution_count": null,
   "metadata": {},
   "outputs": [],
   "source": [
    "def print_horse_name(first, middle = \"\", last = \"Ed\"):\n",
    "    return f\"Hello {first} {middle} {last}.\"\n",
    "\n",
    "print(print_horse_name(\"Mr.\"))\n",
    "print(print_horse_name(\"Mr.\" \"The Horse\", \"Epona\"))"
   ]
  },
  {
   "cell_type": "markdown",
   "metadata": {},
   "source": [
    "##### Keyword Arguments"
   ]
  },
  {
   "cell_type": "code",
   "execution_count": null,
   "metadata": {
    "scrolled": true
   },
   "outputs": [],
   "source": [
    "def print_hero(name, power=\"flying\"):\n",
    "    return f\"{name}'s power is {power}\"\n",
    "print(print_hero(power=\"money\", name=\"Bruce\"))"
   ]
  },
  {
   "cell_type": "code",
   "execution_count": null,
   "metadata": {},
   "outputs": [],
   "source": [
    "yellow=\"yellow\"\n",
    "def print_colors(c1, c2, c3):\n",
    "    return f\"Here are some neat colors; {c1}, {c2}, and {c3}.\"\n",
    "print_colors(c3=yellow, c1=\"red\", c2=\"orange\" )"
   ]
  },
  {
   "cell_type": "markdown",
   "metadata": {},
   "source": [
    "# Creating a start, stop, step function"
   ]
  },
  {
   "cell_type": "code",
   "execution_count": null,
   "metadata": {},
   "outputs": [],
   "source": [
    "def my_range(stop, start = 0, step = 1):\n",
    "    for i in range(start, stop, step):\n",
    "        print(i)\n",
    "    return \"hey great job\"\n",
    "my_range(15)"
   ]
  },
  {
   "cell_type": "code",
   "execution_count": null,
   "metadata": {},
   "outputs": [],
   "source": [
    "print(my_range(1000, 50, 7))"
   ]
  },
  {
   "cell_type": "markdown",
   "metadata": {},
   "source": [
    "##### Returning Values"
   ]
  },
  {
   "cell_type": "code",
   "execution_count": null,
   "metadata": {},
   "outputs": [],
   "source": [
    "poke_list = [\"Charmander\", \"Squirtle\", \"Bulbasaur\", \"Cyndaquil\", \"Chikorita\"]\n",
    "def find_a_bulbasaur(arr):\n",
    "    for poke in poke_list:\n",
    "        if poke == 'Bulbasaur':\n",
    "            return \"Bulba Bulba\"\n",
    "    return \"No Bulbasaur\" #Level with 'for' because else statement would stop at first entry\n",
    "find_a_bulbasaur(poke_list)\n",
    "    "
   ]
  },
  {
   "cell_type": "markdown",
   "metadata": {},
   "source": [
    "##### *args / **kwargs (keyword arguments)"
   ]
  },
  {
   "cell_type": "code",
   "execution_count": null,
   "metadata": {
    "scrolled": true
   },
   "outputs": [],
   "source": [
    "#*args, **kawrgs\n",
    "# *args stands for arguments (**kwargs is for keyword arguments) & takes and takes any number of arguments as parameters\n",
    "#if other parameters are present, *args must go last\n",
    "\n",
    "def print_args(num1, *args, **kwargs):\n",
    "    print(num1)\n",
    "    print(args)\n",
    "    print(kwargs)\n",
    "    \n",
    "print_args(2, \"mega man\", \"cheetor\", \"what else is on ryans desk\", [\"stuff\", \"morestuff\"], names=['jeong', 'mike', 'tenzin'], language = \"python\")"
   ]
  },
  {
   "cell_type": "code",
   "execution_count": null,
   "metadata": {},
   "outputs": [],
   "source": [
    "#write a fution that accepts args and kwargs and prints out each argument and keyword argument on its own line\n",
    "def print_args(num, *args, **kwargs):\n",
    "    for arg in args:\n",
    "        print(arg)\n",
    "        \n",
    "    for key, value in kwargs.items():\n",
    "        #kwargs = {}\n",
    "        print(key, value)\n",
    "    print(num)\n",
    "    \n",
    "print_args(27, \"megaman\", \"link\", \"Bowser\", \"donkey kong\", annoying=\"ness\", delicious=\"pie\", names=[\"alex\", \"kayla\", \"austin\"])"
   ]
  },
  {
   "cell_type": "markdown",
   "metadata": {},
   "source": [
    "##### Docstring"
   ]
  },
  {
   "cell_type": "code",
   "execution_count": null,
   "metadata": {},
   "outputs": [],
   "source": [
    "# Really nice for leaving notes about funtionality in your code\n",
    "# providing instructions\n",
    "def print_names(arr):\n",
    "    \"\"\"\n",
    "    print_names(arr)\n",
    "    Function requires a list to be passed as a parameter\n",
    "    and wil print the contents of the list. Expecting a list of names\n",
    "    as strings to be passed in.\n",
    "    \"\"\"\n",
    "    for name in arr:\n",
    "        print(name)\n",
    "\n",
    "print_names([\"ryan\",\"alex\", \"jeong\", \"mike\", \"tenzin\", \"kayla\"])\n",
    "\n",
    "def something(d):\n",
    "    return d\n",
    "\n",
    "something('d')"
   ]
  },
  {
   "cell_type": "markdown",
   "metadata": {},
   "source": [
    "##### Using a User Function in a Loop"
   ]
  },
  {
   "cell_type": "code",
   "execution_count": null,
   "metadata": {},
   "outputs": [],
   "source": [
    "def printInput(answer):\n",
    "    print(f\"i say heyyyyyyyyyyyyyyyyyyyyy {answer}\")\n",
    "    \n",
    "while True:\n",
    "    ask = input(\"What's going on?\")\n",
    "    \n",
    "    printInput(ask)\n",
    "    \n",
    "    response = input('are you ready to quit? ')\n",
    "    if response.lower() == \"yes\":\n",
    "        break"
   ]
  },
  {
   "cell_type": "markdown",
   "metadata": {},
   "source": [
    "## Function Exercises <br>\n",
    "### Exercise 1\n",
    "<p>Write a function that loops through a list of first_names and a list of last_names, combines the two and return a list of full_names</p>"
   ]
  },
  {
   "cell_type": "code",
   "execution_count": null,
   "metadata": {
    "scrolled": true
   },
   "outputs": [],
   "source": [
    "first_name = ['John', 'Evan', 'Jordan', 'Max']\n",
    "last_name = ['Smith', 'Smith', 'Williams', 'Bell']\n",
    "\n",
    "# Output: ['John Smith', 'Evan Smith', 'Jordan Williams', 'Max Bell']\n",
    "\n",
    "def full_name(first_name, last_name):\n",
    "    return [first_name[i] + \" \" + last_name[i] for i in range(len(first_name))]\n",
    "\n",
    "full_name(first_name, last_name)"
   ]
  },
  {
   "cell_type": "code",
   "execution_count": null,
   "metadata": {},
   "outputs": [],
   "source": [
    "def get_full_name(first, last):\n",
    "    \"\"\"Combine first and last to make a full name\"\"\"\n",
    "    full_name = f\"{first} {last}\"\n",
    "    return full_name.title()\n",
    "\n",
    "def full_names(firsts, lasts): #this takes in a list\n",
    "    fulls = []\n",
    "    for i in range(len(firsts)):\n",
    "        whole_name = get_full_name(firsts[i], lasts[i])\n",
    "        fulls.append(whole_name)\n",
    "    return fulls\n",
    "full_names(first_name, last_name)"
   ]
  },
  {
   "cell_type": "code",
   "execution_count": null,
   "metadata": {},
   "outputs": [],
   "source": [
    "def combineNames(first, last):\n",
    "    full_names = {}\n",
    "    for fname in first_name:\n",
    "        full_names[fname] = last[first.index(fname)]\n",
    "    print(full_names)\n",
    "\n",
    "\n",
    "combineNames(first_name, last_name)"
   ]
  },
  {
   "cell_type": "markdown",
   "metadata": {},
   "source": [
    "### Exercise 2\n",
    "Create a function that alters all values in the given list by subtracting 5 and then doubling them."
   ]
  },
  {
   "cell_type": "code",
   "execution_count": null,
   "metadata": {},
   "outputs": [],
   "source": [
    "input_list = [5,10,15,20,3]\n",
    "# output = [0,10,20,30,-4]\n",
    "\n",
    "def min_mult(lst):\n",
    "    return [(lst[i]-5)*2 for i in range(len(lst))]\n",
    "    \n",
    "min_mult(input_list)\n"
   ]
  },
  {
   "cell_type": "code",
   "execution_count": null,
   "metadata": {},
   "outputs": [],
   "source": [
    "def fun_math(lst):\n",
    "    return [(x-5)*2 for x in lst]\n",
    "\n",
    "fun_math(input_list)\n"
   ]
  },
  {
   "cell_type": "markdown",
   "metadata": {},
   "source": [
    "### Exercise 3\n",
    "Create a function that takes in a list of strings and filters out the strings that DO NOT contain vowels. "
   ]
  },
  {
   "cell_type": "code",
   "execution_count": null,
   "metadata": {},
   "outputs": [],
   "source": [
    "string_list = ['Sheldon','Pnny','Leonard','Hwrd','Rj','Amy','Strt']\n",
    "# output = ['Sheldon','Leonard','Amy']\n",
    "\n",
    "def contain_vowel_list(lst):\n",
    "    vowels = ('a','e','i','o','u')\n",
    "    l = []\n",
    "    for s in lst:\n",
    "        for c in s:\n",
    "            if c.lower() in vowels:\n",
    "                l.append(s)\n",
    "                break\n",
    "    return l\n",
    "\n",
    "contain_vowel_list(string_list)\n"
   ]
  },
  {
   "cell_type": "markdown",
   "metadata": {},
   "source": [
    "### Exercise 4\n",
    "Create a function that accepts a list as a parameter and returns a dictionary containing the list items as it's keys, and the number of times they appear in the list as the values"
   ]
  },
  {
   "cell_type": "code",
   "execution_count": null,
   "metadata": {},
   "outputs": [],
   "source": [
    "example_list = [\"Harry\", 'Hermione','Harry','Ron','Dobby','Draco','Luna','Harry','Hermione','Ron','Ron','Ron']\n",
    "\n",
    "# output = {\n",
    "#     \"Harry\":3,\n",
    "#     \"Hermione\":2,\n",
    "#     \"Ron\":4,\n",
    "#     \"Dobby\":1,\n",
    "#     \"Draco\":1,\n",
    "#     \"Luna\": 1\n",
    "# }\n",
    "\n",
    "def list_count(arr):\n",
    "    d_1 = {}\n",
    "    for i in arr:\n",
    "        if i not in d_1:\n",
    "            d_1[i] = 1\n",
    "        else:\n",
    "            d_1[i] += 1\n",
    "    return d_1\n",
    "\n",
    "\n",
    "for key, value in list_count(example_list).items():\n",
    "    print(key , \":\", value )\n"
   ]
  },
  {
   "cell_type": "code",
   "execution_count": null,
   "metadata": {},
   "outputs": [],
   "source": [
    "def fan_votes(lst):\n",
    "    votes = {}\n",
    "    for name in lst:\n",
    "        if name not in votes:\n",
    "            votes[name] = 1\n",
    "        else:\n",
    "            votes[name] += 1\n",
    "    return votes\n",
    "\n",
    "fan_votes(example_list)\n",
    "\n"
   ]
  },
  {
   "cell_type": "markdown",
   "metadata": {},
   "source": [
    "\n",
    "\n",
    "## Scope <br>\n",
    "<p>Scope refers to the ability to access variables, different types of scope include:<br>a) Global<br>b) Function (local)<br>c) Class (local)</p>"
   ]
  },
  {
   "cell_type": "code",
   "execution_count": null,
   "metadata": {},
   "outputs": [],
   "source": [
    "# placement of variable declaration matters\n",
    "\n",
    "number = 3 # Global Variable\n",
    "\n",
    "def myFunc():\n",
    "    num_3 = 6 # Local Function Variable\n",
    "    return num_3\n",
    "\n",
    "print(number)\n",
    "return_num = myFunc()\n",
    "print(return_num)"
   ]
  },
  {
   "cell_type": "code",
   "execution_count": null,
   "metadata": {
    "scrolled": true
   },
   "outputs": [],
   "source": [
    "num = 10 # GLOBAL VARIABLE\n",
    "\n",
    "def add_nums(number):\n",
    "    number_2 = 12\n",
    "    return number + num\n",
    "\n",
    "add_nums(15)\n",
    "print(number_2)# doesnt work because it is inside of a function"
   ]
  },
  {
   "cell_type": "code",
   "execution_count": null,
   "metadata": {},
   "outputs": [],
   "source": [
    "class Dog():\n",
    "    my_dog = \"Eyo\"\n",
    "    \n",
    "    def my_func():\n",
    "        pass\n",
    "    \n",
    "    def my_func2():\n",
    "        pass\n",
    "print(my_dog)"
   ]
  },
  {
   "cell_type": "markdown",
   "metadata": {},
   "source": [
    "# Homework Exercises"
   ]
  },
  {
   "cell_type": "markdown",
   "metadata": {},
   "source": [
    "## Exercise 1 <br>\n",
    "<p>Given a list as a parameter,write a function that returns a list of numbers that are less than ten</b></i></p><br>\n",
    "<p> For example: Say your input parameter to the function is [1,11,14,5,8,9]...Your output should [1,5,8,9]</p>"
   ]
  },
  {
   "cell_type": "code",
   "execution_count": null,
   "metadata": {},
   "outputs": [],
   "source": [
    "# Use the following list - [1,11,14,5,8,9]\n",
    "\n",
    "l_1 = [1,11,14,5,8,9]\n",
    "l_2 = []\n",
    "def under_ten(nums):\n",
    "\n",
    "# WITHOUT LIST COMPREHENSION\n",
    "#     for num in nums:\n",
    "#         if num < 10:\n",
    "#             l_2.append(num)\n",
    "           \n",
    "#     return l_2\n",
    "\n",
    "# WITH LIST COMPREHENSION\n",
    "     return [num for num in nums if num <10]\n",
    "   \n",
    "\n",
    "under_ten(l_1)\n",
    "    \n"
   ]
  },
  {
   "cell_type": "markdown",
   "metadata": {},
   "source": [
    "## Exercise 2 <br>\n",
    "<p>Write a function that takes in two lists and returns the two lists merged together and sorted<br>\n",
    "<b><i>Hint: You can use the .sort() method</i></b></p>"
   ]
  },
  {
   "cell_type": "code",
   "execution_count": null,
   "metadata": {},
   "outputs": [],
   "source": [
    "l_1 = [1,2,3,4,5,6]\n",
    "l_2 = [3,4,5,6,7,8,10]\n",
    "\n",
    "def sorter(l1,l2):\n",
    "    return sorted(l1 + l2)\n",
    "\n",
    "#I found this lethod online and was curoius if it actually does anything different than l3=sorted(l1 + l2)\n",
    "#   l3=sorted[*l1, *l2]    \n",
    "\n",
    "sorter(l_1,l_2)\n"
   ]
  },
  {
   "cell_type": "markdown",
   "metadata": {},
   "source": [
    "## Exercise 3 <br>\n",
    "<p>Create a function which given an array of integers, return an array, where the first element is the count of\n",
    "positives numbers and the second element is sum of negative numbers. 0 is neither positive nor negative.\n",
    "If the input array is empty or null, return an empty array.</p><br>\n"
   ]
  },
  {
   "cell_type": "code",
   "execution_count": null,
   "metadata": {},
   "outputs": [],
   "source": [
    "arr = [2, -4, 5, 3, 12, -104, -56, 27, 0]\n",
    "arr2 = []\n",
    "arr3 = []\n",
    "arr4 = [0, 0, 0]\n",
    "def new_arr(array):\n",
    "\n",
    "    \n",
    "    counter = [i for i in array if i > 0]\n",
    "\n",
    "    negs = [j for j in array if j < 0]\n",
    "    \n",
    "    summer = 0\n",
    "    for k in negs:\n",
    "        summer+=k\n",
    "    \n",
    "   \n",
    "    \n",
    "    return [len(counter), summer]\n",
    "    \n",
    "new_arr(arr)            "
   ]
  },
  {
   "cell_type": "markdown",
   "metadata": {},
   "source": [
    "## Exercise 4 <br>\n",
    "<p>Create a function that returns the sum of the two lowest positive numbers given\n",
    "an array of minimum 4 positive integers. No floats or non-positive integers will be passed.</p>"
   ]
  },
  {
   "cell_type": "code",
   "execution_count": null,
   "metadata": {},
   "outputs": [],
   "source": [
    "pos_arr = [6, 20, 48, 96, 109, 10034]\n",
    "\n",
    "def add_mins(arr):\n",
    "\n",
    "    if len(arr) >= 4:\n",
    "        pos = [i for i in arr if i > 0]\n",
    " \n",
    "        spos = sorted(pos)\n",
    "\n",
    "        add_min = spos[0]+spos[1]\n",
    "\n",
    "        return add_min\n",
    "\n",
    "add_mins(pos_arr)"
   ]
  },
  {
   "cell_type": "markdown",
   "metadata": {},
   "source": [
    "## Exercise 5 <br>\n",
    "<p>Write a function that when given a list of items will return the \n",
    "item that appears the most times in the list. \n",
    "If two or more items appear the same amount of times, output all items in a list.\n",
    "\n",
    "Example Input = ['Orange', 'Apple', 'Bear', 3, 7, 'Tree', 'Orange', 'Tree']\n",
    "Example Out = ['Orange', 'Tree']\n",
    "\n",
    "#Hint (a counter dictionary might be helpful)</p>"
   ]
  },
  {
   "cell_type": "code",
   "execution_count": null,
   "metadata": {},
   "outputs": [],
   "source": [
    "example_input = ['Orange', 'Apple', 'Bear', 3, 7, 'Tree', 'Orange', 'Tree']\n",
    "\n",
    "def count_func(arr):\n",
    "\n",
    "    cdict = {}\n",
    "    sdict = {}\n",
    "\n",
    "    for i in arr:\n",
    "        if i not in cdict:\n",
    "            cdict[i] = 1\n",
    "        else:\n",
    "            cdict[i] += 1\n",
    "\n",
    "    svals = sorted(cdict.values(), reverse=True)\n",
    "\n",
    "    hval = svals[0]\n",
    "\n",
    "    for j in svals:\n",
    "        for k in cdict.keys():\n",
    "            if cdict[k] == j:\n",
    "                sdict[k] = cdict[k]\n",
    "\n",
    "    most = [key for key, value in sdict.items() if value == hval]\n",
    "\n",
    "    return most\n",
    "\n",
    "count_func(example_input)"
   ]
  }
 ],
 "metadata": {
  "kernelspec": {
   "display_name": "Python 3 (ipykernel)",
   "language": "python",
   "name": "python3"
  },
  "language_info": {
   "codemirror_mode": {
    "name": "ipython",
    "version": 3
   },
   "file_extension": ".py",
   "mimetype": "text/x-python",
   "name": "python",
   "nbconvert_exporter": "python",
   "pygments_lexer": "ipython3",
   "version": "3.11.1"
  }
 },
 "nbformat": 4,
 "nbformat_minor": 2
}
